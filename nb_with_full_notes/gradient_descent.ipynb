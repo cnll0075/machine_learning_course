{
 "cells": [
  {
   "cell_type": "code",
   "execution_count": 1,
   "metadata": {
    "tags": []
   },
   "outputs": [],
   "source": [
    "from ipywidgets import interact\n",
    "import numpy as np\n",
    "import matplotlib.pyplot as plt\n",
    "from functools import partial"
   ]
  },
  {
   "cell_type": "code",
   "execution_count": 2,
   "metadata": {
    "tags": []
   },
   "outputs": [],
   "source": [
    "plt.rc('figure', dpi=90)\n",
    "\n",
    "def plot_function(f, title=None, min=-2.1, max=2.1, color='r', ylim=None):\n",
    "    x = np.linspace(min,max, 100)[:,None]\n",
    "    if ylim: plt.ylim(ylim)\n",
    "    plt.plot(x, f(x), color)\n",
    "    if title is not None: plt.title(title)"
   ]
  },
  {
   "cell_type": "code",
   "execution_count": 3,
   "metadata": {
    "tags": []
   },
   "outputs": [],
   "source": [
    "def quad(a, b, c, x): return a*x**2 + b*x + c\n",
    "def linear(a, b, x): return a*x + b\n",
    "def cubic(a,b,c,d,x): return a*x**3 + b*x**2 + c*x + d"
   ]
  },
  {
   "cell_type": "code",
   "execution_count": 4,
   "metadata": {
    "tags": []
   },
   "outputs": [],
   "source": [
    "def mk_quad(a,b,c): return partial(quad, a,b,c)\n",
    "def mk_linear(a,b): return partial(linear, a, b)"
   ]
  },
  {
   "cell_type": "code",
   "execution_count": 5,
   "metadata": {
    "tags": []
   },
   "outputs": [],
   "source": [
    "def noise(x, scale): return np.random.normal(scale=scale, size=x.shape)\n",
    "def add_noise(x, mult, add): return x * (1+noise(x,mult)) + noise(x,add)"
   ]
  },
  {
   "cell_type": "code",
   "execution_count": 6,
   "metadata": {},
   "outputs": [],
   "source": [
    "def f(x): \n",
    "    a = np.random.randint(1,3) + np.random.uniform(0, 1) \n",
    "    b = np.random.randint(1,3) + np.random.uniform(0, 1) \n",
    "    c = np.random.randint(1,3) + np.random.uniform(0, 1)\n",
    "    return quad(a, b, c, x), a, b, c"
   ]
  },
  {
   "cell_type": "code",
   "execution_count": 7,
   "metadata": {},
   "outputs": [],
   "source": [
    "def f_0(x): \n",
    "    a = np.random.randint(0,2) + np.random.uniform(0, 1)\n",
    "    b = np.random.randint(0,2) + np.random.uniform(0, 1) \n",
    "    return linear(a, b, x), a, b"
   ]
  },
  {
   "cell_type": "code",
   "execution_count": 8,
   "metadata": {},
   "outputs": [
    {
     "data": {
      "application/vnd.jupyter.widget-view+json": {
       "model_id": "ab01f7c20f4f47828d654e8f3bf5581f",
       "version_major": 2,
       "version_minor": 0
      },
      "text/plain": [
       "interactive(children=(FloatSlider(value=1.1, description='a', max=3.3000000000000003, min=-1.1), FloatSlider(v…"
      ]
     },
     "metadata": {},
     "output_type": "display_data"
    }
   ],
   "source": [
    "## data generation -- imitate an unknown process in real life; what we're trying to model\n",
    "x = np.linspace(-2, 2, num=20)[:,None]\n",
    "y, a, b = f_0(x)\n",
    "y = add_noise(y, 0.15, 1.5)\n",
    "\n",
    "\n",
    "## imitating our modeling process: trying to fit a function to the data\n",
    "@interact(a=1.1, b=1.1)\n",
    "def plot_linear(a, b):\n",
    "    \n",
    "    plt.scatter(x,y)\n",
    "    plot_function(mk_linear(a,b), ylim=(min(y) - 5,max(y) + 5))"
   ]
  },
  {
   "cell_type": "code",
   "execution_count": 9,
   "metadata": {},
   "outputs": [
    {
     "data": {
      "application/vnd.jupyter.widget-view+json": {
       "model_id": "38c9d0f6c3c54afc942256bed6d26373",
       "version_major": 2,
       "version_minor": 0
      },
      "text/plain": [
       "interactive(children=(FloatSlider(value=1.1, description='a', max=3.3000000000000003, min=-1.1), FloatSlider(v…"
      ]
     },
     "metadata": {},
     "output_type": "display_data"
    }
   ],
   "source": [
    "## data generation -- imitate an unknown process in real life; what we're trying to model\n",
    "x = np.linspace(-2, 2, num=20)[:,None]\n",
    "y, a, b, c = f(x)\n",
    "y = add_noise(y, 0.15, 1.5)\n",
    "\n",
    "## imitating our modeling process: trying to fit a function to the data\n",
    "@interact(a=1.1, b=1.1, c=1.1)\n",
    "def plot_quad(a, b, c):\n",
    "    plt.scatter(x,y)\n",
    "    plot_function(mk_quad(a,b,c), ylim=(min(y) - 8,max(y) + 8))"
   ]
  },
  {
   "cell_type": "code",
   "execution_count": 10,
   "metadata": {},
   "outputs": [],
   "source": [
    "from sklearn.metrics import mean_squared_error"
   ]
  },
  {
   "cell_type": "markdown",
   "metadata": {},
   "source": [
    "### Making this fitting process a bit controlled"
   ]
  },
  {
   "cell_type": "code",
   "execution_count": 11,
   "metadata": {},
   "outputs": [
    {
     "data": {
      "application/vnd.jupyter.widget-view+json": {
       "model_id": "968ae93cd08c44568965070b7e476549",
       "version_major": 2,
       "version_minor": 0
      },
      "text/plain": [
       "interactive(children=(FloatSlider(value=1.1, description='a', max=3.3000000000000003, min=-1.1), FloatSlider(v…"
      ]
     },
     "metadata": {},
     "output_type": "display_data"
    }
   ],
   "source": [
    "## data generation -- imitate an unknown process in real life; what we're trying to model\n",
    "x = np.linspace(-2, 2, num=20)[:,None]\n",
    "y, a, b = f_0(x)\n",
    "y = add_noise(y, 0.15, 1.5)\n",
    "\n",
    "\n",
    "## imitating our modeling process: trying to fit a function to the data\n",
    "@interact(a=1.1, b=1.1)\n",
    "def plot_linear(a, b):\n",
    "    func = mk_linear(a,b)\n",
    "    loss = mean_squared_error(func(x), y)\n",
    "    plt.scatter(x,y)\n",
    "    plot_function(func, ylim=(min(y) - 5,max(y) + 5), title=f\"MSE: {loss:.2f}\")"
   ]
  },
  {
   "cell_type": "code",
   "execution_count": 12,
   "metadata": {},
   "outputs": [
    {
     "data": {
      "application/vnd.jupyter.widget-view+json": {
       "model_id": "40c264ada13e4e1a95fb81c8b2c83ec8",
       "version_major": 2,
       "version_minor": 0
      },
      "text/plain": [
       "interactive(children=(FloatSlider(value=1.1, description='a', max=3.3000000000000003, min=-1.1), FloatSlider(v…"
      ]
     },
     "metadata": {},
     "output_type": "display_data"
    }
   ],
   "source": [
    "## data generation -- imitate an unknown process in real life; what we're trying to model\n",
    "x = np.linspace(-2, 2, num=20)[:,None]\n",
    "y, a, b, c = f(x)\n",
    "y = add_noise(y, 0.15, 1.5)\n",
    "\n",
    "## imitating our modeling process: trying to fit a function to the data\n",
    "@interact(a=1.1, b=1.1, c=1.1)\n",
    "def plot_quad(a, b, c):\n",
    "    func = mk_quad(a,b, c)\n",
    "    loss = mean_squared_error(func(x), y)\n",
    "    plt.scatter(x,y)\n",
    "    plot_function(func, ylim=(min(y) - 8,max(y) + 8),title=f\"MSE: {loss:.2f}\")"
   ]
  },
  {
   "cell_type": "code",
   "execution_count": null,
   "metadata": {},
   "outputs": [],
   "source": []
  }
 ],
 "metadata": {
  "kernelspec": {
   "display_name": "nobleprog_training",
   "language": "python",
   "name": "myenv"
  },
  "language_info": {
   "codemirror_mode": {
    "name": "ipython",
    "version": 3
   },
   "file_extension": ".py",
   "mimetype": "text/x-python",
   "name": "python",
   "nbconvert_exporter": "python",
   "pygments_lexer": "ipython3",
   "version": "3.10.8"
  }
 },
 "nbformat": 4,
 "nbformat_minor": 4
}
