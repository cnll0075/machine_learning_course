{
 "cells": [
  {
   "cell_type": "code",
   "execution_count": 1,
   "id": "9614a491-9430-4b1f-883b-2d214b6fdbd2",
   "metadata": {},
   "outputs": [],
   "source": [
    "import torch\n",
    "import numpy as np"
   ]
  },
  {
   "cell_type": "markdown",
   "id": "97bbb575-e22b-476a-8bd9-1baf4e03f43f",
   "metadata": {},
   "source": [
    "### Tensor -- basic data structure"
   ]
  },
  {
   "cell_type": "markdown",
   "id": "f2dc9419-c9ca-4407-9ec1-f1d161189905",
   "metadata": {},
   "source": [
    "Tensors are similar to numpy’s arrays, except that tensors can run on GPUs or other hardware accelerators. "
   ]
  },
  {
   "cell_type": "code",
   "execution_count": 2,
   "id": "eb47e798-e20a-4335-ad6e-4e1c380ef446",
   "metadata": {},
   "outputs": [],
   "source": [
    "data = [[1, 2],[3, 4]]\n",
    "x_data = torch.tensor(data)"
   ]
  },
  {
   "cell_type": "code",
   "execution_count": 3,
   "id": "4a4e1aa8-9e9c-40a3-a57a-834dee64ea0e",
   "metadata": {},
   "outputs": [
    {
     "data": {
      "text/plain": [
       "tensor([[1, 2],\n",
       "        [3, 4]])"
      ]
     },
     "execution_count": 3,
     "metadata": {},
     "output_type": "execute_result"
    }
   ],
   "source": [
    "x_data"
   ]
  },
  {
   "cell_type": "code",
   "execution_count": 4,
   "id": "f48808da-5499-41be-9412-ba427c0b5664",
   "metadata": {},
   "outputs": [],
   "source": [
    "np_array = np.array([0, 1])\n",
    "x_np = torch.from_numpy(np_array)"
   ]
  },
  {
   "cell_type": "code",
   "execution_count": 5,
   "id": "617392f6-2cf8-43f0-9844-f97732cb9e76",
   "metadata": {},
   "outputs": [
    {
     "data": {
      "text/plain": [
       "tensor([0, 1])"
      ]
     },
     "execution_count": 5,
     "metadata": {},
     "output_type": "execute_result"
    }
   ],
   "source": [
    "x_np"
   ]
  },
  {
   "cell_type": "code",
   "execution_count": 9,
   "id": "e1c1a146-bf5d-4db2-9b93-42399a50a010",
   "metadata": {},
   "outputs": [],
   "source": [
    "x_ones = torch.ones_like(x_data) \n",
    "x_zeros = torch.zeros_like(x_data)\n",
    "x_randoms = torch.rand_like(x_data, dtype=torch.float)"
   ]
  },
  {
   "cell_type": "code",
   "execution_count": 10,
   "id": "e9a3ab2e-68fd-46f7-b410-10f0fff1c6aa",
   "metadata": {},
   "outputs": [
    {
     "data": {
      "text/plain": [
       "tensor([[1, 1],\n",
       "        [1, 1]])"
      ]
     },
     "execution_count": 10,
     "metadata": {},
     "output_type": "execute_result"
    }
   ],
   "source": [
    "x_ones"
   ]
  },
  {
   "cell_type": "code",
   "execution_count": 11,
   "id": "583219d4-43a0-4bce-8e35-8a75f6232cfb",
   "metadata": {},
   "outputs": [
    {
     "data": {
      "text/plain": [
       "tensor([[0, 0],\n",
       "        [0, 0]])"
      ]
     },
     "execution_count": 11,
     "metadata": {},
     "output_type": "execute_result"
    }
   ],
   "source": [
    "x_zeros"
   ]
  },
  {
   "cell_type": "code",
   "execution_count": 12,
   "id": "87efd17a-556d-454e-945c-66ba7bc74861",
   "metadata": {},
   "outputs": [
    {
     "data": {
      "text/plain": [
       "tensor([[0.2342, 0.4331],\n",
       "        [0.9410, 0.6869]])"
      ]
     },
     "execution_count": 12,
     "metadata": {},
     "output_type": "execute_result"
    }
   ],
   "source": [
    "x_randoms"
   ]
  },
  {
   "cell_type": "code",
   "execution_count": 13,
   "id": "0ea7c556-4e19-4654-81c7-e2133ac256e9",
   "metadata": {},
   "outputs": [
    {
     "name": "stdout",
     "output_type": "stream",
     "text": [
      "Shape of tensor: torch.Size([2, 2])\n",
      "Datatype of tensor: torch.float32\n",
      "Device tensor is stored on: cpu\n"
     ]
    }
   ],
   "source": [
    "print(f\"Shape of tensor: {x_randoms.shape}\")\n",
    "print(f\"Datatype of tensor: {x_randoms.dtype}\")\n",
    "print(f\"Device tensor is stored on: {x_randoms.device}\")"
   ]
  },
  {
   "cell_type": "markdown",
   "id": "3658ba37-185a-4fa6-a605-09d56d211d60",
   "metadata": {},
   "source": [
    "### Tensor indexing"
   ]
  },
  {
   "cell_type": "code",
   "execution_count": 14,
   "id": "1593c115-594c-4364-b6b4-402856a0b821",
   "metadata": {},
   "outputs": [
    {
     "data": {
      "text/plain": [
       "tensor([[1, 2],\n",
       "        [3, 4]])"
      ]
     },
     "execution_count": 14,
     "metadata": {},
     "output_type": "execute_result"
    }
   ],
   "source": [
    "x_data"
   ]
  },
  {
   "cell_type": "code",
   "execution_count": 17,
   "id": "c7e79a54-3673-487e-821b-2a68e6b91c40",
   "metadata": {},
   "outputs": [
    {
     "data": {
      "text/plain": [
       "tensor([2, 4])"
      ]
     },
     "execution_count": 17,
     "metadata": {},
     "output_type": "execute_result"
    }
   ],
   "source": [
    "x_data[:, 1]"
   ]
  },
  {
   "cell_type": "code",
   "execution_count": 18,
   "id": "001854be-f5f0-483f-bf92-b8c0141502a0",
   "metadata": {},
   "outputs": [
    {
     "data": {
      "text/plain": [
       "tensor([3, 4])"
      ]
     },
     "execution_count": 18,
     "metadata": {},
     "output_type": "execute_result"
    }
   ],
   "source": [
    "x_data[1, :]"
   ]
  },
  {
   "cell_type": "markdown",
   "id": "7ddb4276-2bbf-4b86-8cba-09e825e6d558",
   "metadata": {},
   "source": [
    "### Tensor operation"
   ]
  },
  {
   "cell_type": "code",
   "execution_count": 19,
   "id": "2349dcb8-2736-4c7a-a7a6-eba06b260c8d",
   "metadata": {},
   "outputs": [
    {
     "data": {
      "text/plain": [
       "tensor([[1, 2],\n",
       "        [3, 4]])"
      ]
     },
     "execution_count": 19,
     "metadata": {},
     "output_type": "execute_result"
    }
   ],
   "source": [
    "x_data"
   ]
  },
  {
   "cell_type": "code",
   "execution_count": 21,
   "id": "f9bf19a7-5982-4bf8-a5e6-844f09b090e8",
   "metadata": {},
   "outputs": [
    {
     "data": {
      "text/plain": [
       "tensor([[1, 3],\n",
       "        [2, 4]])"
      ]
     },
     "execution_count": 21,
     "metadata": {},
     "output_type": "execute_result"
    }
   ],
   "source": [
    "x_data.T # transpose"
   ]
  },
  {
   "cell_type": "code",
   "execution_count": 24,
   "id": "d6a1390b-8dc0-4af3-8dab-c24e4de7db9c",
   "metadata": {},
   "outputs": [
    {
     "data": {
      "text/plain": [
       "tensor([[ 5, 11],\n",
       "        [11, 25]])"
      ]
     },
     "execution_count": 24,
     "metadata": {},
     "output_type": "execute_result"
    }
   ],
   "source": [
    "torch.matmul(x_data, x_data.T) # matrix multiplication"
   ]
  },
  {
   "cell_type": "code",
   "execution_count": 25,
   "id": "25311270-d4ee-46d6-a14c-78c8bd4883e6",
   "metadata": {},
   "outputs": [
    {
     "data": {
      "text/plain": [
       "tensor([[ 1,  6],\n",
       "        [ 6, 16]])"
      ]
     },
     "execution_count": 25,
     "metadata": {},
     "output_type": "execute_result"
    }
   ],
   "source": [
    "torch.mul(x_data, x_data.T)"
   ]
  },
  {
   "cell_type": "code",
   "execution_count": 29,
   "id": "33601a3c-3d51-4831-918c-404ca3a197e6",
   "metadata": {},
   "outputs": [
    {
     "data": {
      "text/plain": [
       "tensor([[2, 3],\n",
       "        [4, 5]])"
      ]
     },
     "execution_count": 29,
     "metadata": {},
     "output_type": "execute_result"
    }
   ],
   "source": [
    "x_data.add_(1)\n",
    "x_data"
   ]
  },
  {
   "cell_type": "code",
   "execution_count": 31,
   "id": "4335cbe4-b7da-4f10-a73f-3c27a026e704",
   "metadata": {},
   "outputs": [],
   "source": [
    "x_data.grad ## returns the gradient of a tensor in models"
   ]
  }
 ],
 "metadata": {
  "kernelspec": {
   "display_name": "nobleprog_training",
   "language": "python",
   "name": "myenv"
  },
  "language_info": {
   "codemirror_mode": {
    "name": "ipython",
    "version": 3
   },
   "file_extension": ".py",
   "mimetype": "text/x-python",
   "name": "python",
   "nbconvert_exporter": "python",
   "pygments_lexer": "ipython3",
   "version": "3.10.8"
  }
 },
 "nbformat": 4,
 "nbformat_minor": 5
}
