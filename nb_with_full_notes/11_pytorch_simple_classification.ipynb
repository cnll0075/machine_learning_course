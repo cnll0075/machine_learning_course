{
 "cells": [
  {
   "cell_type": "markdown",
   "id": "837bf379-563a-49e8-a2e1-db89be2ec84a",
   "metadata": {},
   "source": [
    "In this notebook, we will explore how to use pytorch to build a neural network model to predict survivorship on Titanic. "
   ]
  },
  {
   "cell_type": "code",
   "execution_count": 1,
   "id": "113d680c-b948-4e38-bfdb-78e142fae3ca",
   "metadata": {},
   "outputs": [],
   "source": [
    "import pandas as pd\n",
    "import numpy as np\n",
    "import torch\n",
    "import torch.nn as nn\n",
    "import torch.nn.functional as F\n",
    "import torch.optim as optim\n",
    "from torch.utils.data import Dataset, DataLoader\n",
    "import matplotlib.pyplot as plt"
   ]
  },
  {
   "cell_type": "markdown",
   "id": "e9a98906-8de0-44be-85ec-42d640a99193",
   "metadata": {},
   "source": [
    "## Loading the data"
   ]
  },
  {
   "cell_type": "code",
   "execution_count": 2,
   "id": "e406e45f-708a-4cb6-9d4a-45f8f6647e34",
   "metadata": {},
   "outputs": [
    {
     "data": {
      "text/plain": [
       "(889, 10)"
      ]
     },
     "execution_count": 2,
     "metadata": {},
     "output_type": "execute_result"
    }
   ],
   "source": [
    "df = pd.read_csv(\"../data/Titanic/train_processed.csv\")\n",
    "df.shape"
   ]
  },
  {
   "cell_type": "code",
   "execution_count": 3,
   "id": "89f9a58a-f06e-4abc-a99e-0f31d2d699a4",
   "metadata": {},
   "outputs": [],
   "source": [
    "train_df = df[:int(0.8 * len(df))]\n",
    "valid_df = df[int(0.8 * len(df)):]"
   ]
  },
  {
   "cell_type": "code",
   "execution_count": 4,
   "id": "7a391b33-d01b-4901-9758-73714843d001",
   "metadata": {},
   "outputs": [
    {
     "data": {
      "text/plain": [
       "(711, 178)"
      ]
     },
     "execution_count": 4,
     "metadata": {},
     "output_type": "execute_result"
    }
   ],
   "source": [
    "len(train_df), len(valid_df)"
   ]
  },
  {
   "cell_type": "code",
   "execution_count": 5,
   "id": "7ed13bcd-8d67-4616-a5dd-2038c35309b4",
   "metadata": {},
   "outputs": [
    {
     "data": {
      "text/html": [
       "<div>\n",
       "<style scoped>\n",
       "    .dataframe tbody tr th:only-of-type {\n",
       "        vertical-align: middle;\n",
       "    }\n",
       "\n",
       "    .dataframe tbody tr th {\n",
       "        vertical-align: top;\n",
       "    }\n",
       "\n",
       "    .dataframe thead th {\n",
       "        text-align: right;\n",
       "    }\n",
       "</style>\n",
       "<table border=\"1\" class=\"dataframe\">\n",
       "  <thead>\n",
       "    <tr style=\"text-align: right;\">\n",
       "      <th></th>\n",
       "      <th>Survived</th>\n",
       "      <th>Pclass</th>\n",
       "      <th>Age</th>\n",
       "      <th>SibSp</th>\n",
       "      <th>Parch</th>\n",
       "      <th>Fare</th>\n",
       "      <th>Sex_numeric</th>\n",
       "      <th>Embarked_C</th>\n",
       "      <th>Embarked_Q</th>\n",
       "      <th>Embarked_S</th>\n",
       "    </tr>\n",
       "  </thead>\n",
       "  <tbody>\n",
       "    <tr>\n",
       "      <th>0</th>\n",
       "      <td>0</td>\n",
       "      <td>3</td>\n",
       "      <td>22.0</td>\n",
       "      <td>1</td>\n",
       "      <td>0</td>\n",
       "      <td>7.2500</td>\n",
       "      <td>0</td>\n",
       "      <td>0</td>\n",
       "      <td>0</td>\n",
       "      <td>1</td>\n",
       "    </tr>\n",
       "    <tr>\n",
       "      <th>1</th>\n",
       "      <td>1</td>\n",
       "      <td>1</td>\n",
       "      <td>38.0</td>\n",
       "      <td>1</td>\n",
       "      <td>0</td>\n",
       "      <td>71.2833</td>\n",
       "      <td>1</td>\n",
       "      <td>1</td>\n",
       "      <td>0</td>\n",
       "      <td>0</td>\n",
       "    </tr>\n",
       "    <tr>\n",
       "      <th>2</th>\n",
       "      <td>1</td>\n",
       "      <td>3</td>\n",
       "      <td>26.0</td>\n",
       "      <td>0</td>\n",
       "      <td>0</td>\n",
       "      <td>7.9250</td>\n",
       "      <td>1</td>\n",
       "      <td>0</td>\n",
       "      <td>0</td>\n",
       "      <td>1</td>\n",
       "    </tr>\n",
       "    <tr>\n",
       "      <th>3</th>\n",
       "      <td>1</td>\n",
       "      <td>1</td>\n",
       "      <td>35.0</td>\n",
       "      <td>1</td>\n",
       "      <td>0</td>\n",
       "      <td>53.1000</td>\n",
       "      <td>1</td>\n",
       "      <td>0</td>\n",
       "      <td>0</td>\n",
       "      <td>1</td>\n",
       "    </tr>\n",
       "    <tr>\n",
       "      <th>4</th>\n",
       "      <td>0</td>\n",
       "      <td>3</td>\n",
       "      <td>35.0</td>\n",
       "      <td>0</td>\n",
       "      <td>0</td>\n",
       "      <td>8.0500</td>\n",
       "      <td>0</td>\n",
       "      <td>0</td>\n",
       "      <td>0</td>\n",
       "      <td>1</td>\n",
       "    </tr>\n",
       "  </tbody>\n",
       "</table>\n",
       "</div>"
      ],
      "text/plain": [
       "   Survived  Pclass   Age  SibSp  Parch     Fare  Sex_numeric  Embarked_C  \\\n",
       "0         0       3  22.0      1      0   7.2500            0           0   \n",
       "1         1       1  38.0      1      0  71.2833            1           1   \n",
       "2         1       3  26.0      0      0   7.9250            1           0   \n",
       "3         1       1  35.0      1      0  53.1000            1           0   \n",
       "4         0       3  35.0      0      0   8.0500            0           0   \n",
       "\n",
       "   Embarked_Q  Embarked_S  \n",
       "0           0           1  \n",
       "1           0           0  \n",
       "2           0           1  \n",
       "3           0           1  \n",
       "4           0           1  "
      ]
     },
     "execution_count": 5,
     "metadata": {},
     "output_type": "execute_result"
    }
   ],
   "source": [
    "df.head()"
   ]
  },
  {
   "cell_type": "markdown",
   "id": "bc8cda23-7d00-427a-a7b5-00704f016e0b",
   "metadata": {},
   "source": [
    "## Define the model"
   ]
  },
  {
   "cell_type": "markdown",
   "id": "9362cd25-f1e7-4348-8ea4-b98ab0aea76e",
   "metadata": {},
   "source": [
    "Suppose we want to create a simple model with 1 middle layer that has 5 neurons. In pytorch, to create a model, we need to \n",
    " - create a class that inherits nn.Module. \n",
    " - the architecture (components) of the model will be defined in the constructor\n",
    " - the feed forward part needs to be defined in a function called forward. It tells how the data will flow through the network and how outputs are calculated\n",
    "\n",
    "[Python class inheritance](https://www.w3schools.com/python/python_inheritance.asp)"
   ]
  },
  {
   "cell_type": "code",
   "execution_count": 6,
   "id": "0f3eea2d-5f79-43e7-b756-3bd623f5621e",
   "metadata": {},
   "outputs": [],
   "source": [
    "class TitanticModel(nn.Module):\n",
    "    def __init__(self): # self is like \"this\" in Java\n",
    "        super().__init__()\n",
    "        # we have 9 inputs and 5 outputs\n",
    "        self.fc_layer_1 = nn.Linear(9, 5)\n",
    "        # we will apply dropout on the layer with 20% of neuron getting dropped out each time\n",
    "        self.dropout_layer = nn.Dropout(0.2)\n",
    "        # next we need another layer to connect the 5 neurons to the 2 outputs\n",
    "        self.fc_layer_2 = nn.Linear(5, 2)\n",
    "        \n",
    "    def forward(self, x):\n",
    "        x = self.fc_layer_1(x)\n",
    "        x = F.relu(x)\n",
    "        x = self.dropout_layer(x)\n",
    "        x = self.fc_layer_2(x)\n",
    "        # softmax will make sure the sum of both neurons is 1\n",
    "        # taking log because of mathmatical stability\n",
    "        output = F.log_softmax(x, dim=1)\n",
    "        return output"
   ]
  },
  {
   "cell_type": "markdown",
   "id": "0e240571-4152-4c9c-b376-5ca6653618a9",
   "metadata": {},
   "source": [
    "As you can see, defining a model in pytorch is more complex compared to Scikit-learn. However this means there's more flexibility and freedom of how you define your models"
   ]
  },
  {
   "cell_type": "markdown",
   "id": "9d20839f-e891-4a1d-91ea-75a7bbe97a83",
   "metadata": {},
   "source": [
    "## Loading the data into dataset and dataloader"
   ]
  },
  {
   "cell_type": "markdown",
   "id": "69b7a0c1-0e30-4ac4-bf6a-280d5f68456c",
   "metadata": {},
   "source": [
    "Unlike scikit-learn where you can directly pass in pandas dataframe or numpy array into model training, we need to pass data into a dataset object then dataloader instead"
   ]
  },
  {
   "cell_type": "markdown",
   "id": "222a45bc-e4f0-4009-b125-e233292e2af2",
   "metadata": {},
   "source": [
    "To define our customized dataset, there are three requirements: \n",
    "- we will initialize the class with the content of the data\n",
    "- we need to implement the len dunder function to tell pytorch how large our dataset is\n",
    "- we need to implemnt the getitem function to tell pytorch how to get a piece of data"
   ]
  },
  {
   "cell_type": "markdown",
   "id": "ce6edeaf-e15d-403a-bc05-41beb89779db",
   "metadata": {},
   "source": [
    "[Python Dunder methods](https://mathspp.com/blog/pydonts/dunder-methods#:~:text=In%20Python%2C%20dunder%20methods%20are,__%20or%20__add__%20.)"
   ]
  },
  {
   "cell_type": "code",
   "execution_count": 7,
   "id": "e980c58b-9f64-4646-9af1-1bc46f364f59",
   "metadata": {},
   "outputs": [],
   "source": [
    "class TitanicDataset(Dataset):\n",
    "    def __init__(self, df):\n",
    "        super().__init__()\n",
    "        y = df['Survived'].values\n",
    "        x = df.drop(['Survived'], axis=1).values\n",
    "        self.x = torch.tensor(x, dtype=torch.float32)\n",
    "        self.y = torch.tensor(y, dtype=torch.long)\n",
    "    \n",
    "    def __len__(self):\n",
    "        return len(self.y)\n",
    "    \n",
    "    def __getitem__(self, idx):\n",
    "        return self.x[idx], self.y[idx]"
   ]
  },
  {
   "cell_type": "code",
   "execution_count": 8,
   "id": "e9854923-6119-4e10-b344-e040ce59161c",
   "metadata": {},
   "outputs": [],
   "source": [
    "train_loader = torch.utils.data.DataLoader(TitanicDataset(train_df), batch_size=10, shuffle=True)\n",
    "test_loader = torch.utils.data.DataLoader(TitanicDataset(valid_df), batch_size=10, shuffle=False)"
   ]
  },
  {
   "cell_type": "markdown",
   "id": "3b32d413-3dd6-4aae-83d6-6298d50bec27",
   "metadata": {},
   "source": [
    "In PyTorch, the batch size is the number of samples that are processed by the model in one forward-backward pass. It is one of the hyperparameters that needs to be set when training a model with a DataLoader.\n",
    "\n",
    "When the batch size is set to 1, the model processes one sample at a time, which is called online or stochastic training. When the batch size is set to the size of the entire dataset, the model processes the entire dataset in one forward-backward pass, which is called batch training. In practice, the batch size is usually set to a value between 1 and the size of the dataset, and is a trade-off between the accuracy of the gradient and the speed of training. A larger batch size can lead to faster training, but may also lead to a less accurate gradient.\n",
    "\n",
    "For example, if you have a dataset of 100 samples and you set the batch size to 10, the DataLoader will return 10 samples at a time, and it will take 10 iterations to process the entire dataset.\n",
    "\n",
    "It's important to note that the batch size can also affect the memory usage during the training and inference, as the model needs to hold all the batch data in memory. So it's important to choose a batch size that fits the amount of memory available."
   ]
  },
  {
   "cell_type": "code",
   "execution_count": 9,
   "id": "668bb7c4-926a-44e7-8e01-f79f9bf87d6b",
   "metadata": {},
   "outputs": [],
   "source": [
    "# for i, (data, labels) in enumerate(train_loader):\n",
    "#     print(data.shape, labels.shape)\n",
    "#     print(data,labels)"
   ]
  },
  {
   "cell_type": "markdown",
   "id": "7b6c72ea-bf54-4e4c-af76-7cc93d6c26f5",
   "metadata": {},
   "source": [
    "## Define the training and validation process"
   ]
  },
  {
   "cell_type": "code",
   "execution_count": 10,
   "id": "9dc2b78f-d580-45b1-9673-680386f6504c",
   "metadata": {},
   "outputs": [],
   "source": [
    "train_losses = []\n",
    "def train(model, train_loader, optimizer, epoch):\n",
    "    model.train()\n",
    "    train_loss = 0\n",
    "    for batch_idx, (data, target) in enumerate(train_loader):\n",
    "        optimizer.zero_grad() # this is to ensure each gradients calculated each batch are independent\n",
    "        output = model(data)\n",
    "        loss = F.nll_loss(output, target)\n",
    "        train_loss += loss.item()\n",
    "        loss.backward() ## calculate gradients\n",
    "        optimizer.step() ## update the parameters using gradients\n",
    "            \n",
    "    train_loss /= len(train_loader.dataset)\n",
    "    train_losses.append(train_loss)\n",
    "    print(f'Train Epoch: {epoch}, Loss: {train_loss:.6f}')"
   ]
  },
  {
   "cell_type": "code",
   "execution_count": 11,
   "id": "c356ef0c-b4c0-4d12-b1d3-b4c269fd10f5",
   "metadata": {},
   "outputs": [],
   "source": [
    "test_losses = []\n",
    "def valid(model, test_loader):\n",
    "    model.eval()\n",
    "    test_loss = 0\n",
    "    with torch.no_grad():\n",
    "        for data, target in test_loader:\n",
    "            output = model(data)\n",
    "            test_loss += F.nll_loss(output, target).item()  # sum up batch loss\n",
    "\n",
    "    test_loss /= len(test_loader.dataset)\n",
    "    test_losses.append(test_loss)\n",
    "    print('Test set: Average loss: {:.4f}\\n'.format(test_loss))"
   ]
  },
  {
   "cell_type": "code",
   "execution_count": 12,
   "id": "74904272-d396-49ea-b24b-474d28683489",
   "metadata": {},
   "outputs": [
    {
     "name": "stdout",
     "output_type": "stream",
     "text": [
      "Train Epoch: 1, Loss: 0.079211\n",
      "Test set: Average loss: 0.0701\n",
      "\n",
      "Train Epoch: 2, Loss: 0.064664\n",
      "Test set: Average loss: 0.0721\n",
      "\n",
      "Train Epoch: 3, Loss: 0.068417\n",
      "Test set: Average loss: 0.0657\n",
      "\n",
      "Train Epoch: 4, Loss: 0.067798\n",
      "Test set: Average loss: 0.0657\n",
      "\n",
      "Train Epoch: 5, Loss: 0.067915\n",
      "Test set: Average loss: 0.0662\n",
      "\n",
      "Train Epoch: 6, Loss: 0.068246\n",
      "Test set: Average loss: 0.0666\n",
      "\n",
      "Train Epoch: 7, Loss: 0.068773\n",
      "Test set: Average loss: 0.0672\n",
      "\n",
      "Train Epoch: 8, Loss: 0.068270\n",
      "Test set: Average loss: 0.0671\n",
      "\n",
      "Train Epoch: 9, Loss: 0.067791\n",
      "Test set: Average loss: 0.0657\n",
      "\n",
      "Train Epoch: 10, Loss: 0.068478\n",
      "Test set: Average loss: 0.0659\n",
      "\n",
      "Train Epoch: 11, Loss: 0.068268\n",
      "Test set: Average loss: 0.0662\n",
      "\n",
      "Train Epoch: 12, Loss: 0.068541\n",
      "Test set: Average loss: 0.0657\n",
      "\n",
      "Train Epoch: 13, Loss: 0.067806\n",
      "Test set: Average loss: 0.0668\n",
      "\n",
      "Train Epoch: 14, Loss: 0.067833\n",
      "Test set: Average loss: 0.0658\n",
      "\n",
      "Train Epoch: 15, Loss: 0.068615\n",
      "Test set: Average loss: 0.0680\n",
      "\n",
      "Train Epoch: 16, Loss: 0.068435\n",
      "Test set: Average loss: 0.0661\n",
      "\n",
      "Train Epoch: 17, Loss: 0.068319\n",
      "Test set: Average loss: 0.0657\n",
      "\n",
      "Train Epoch: 18, Loss: 0.068142\n",
      "Test set: Average loss: 0.0671\n",
      "\n",
      "Train Epoch: 19, Loss: 0.068734\n",
      "Test set: Average loss: 0.0657\n",
      "\n",
      "Train Epoch: 20, Loss: 0.068363\n",
      "Test set: Average loss: 0.0660\n",
      "\n"
     ]
    }
   ],
   "source": [
    "model = TitanticModel()\n",
    "optimizer = optim.Adam(model.parameters(), lr=0.05)\n",
    "\n",
    "for epoch in range(1, 20 + 1):\n",
    "    train(model,train_loader, optimizer, epoch)\n",
    "    valid(model, test_loader)\n"
   ]
  },
  {
   "cell_type": "code",
   "execution_count": 13,
   "id": "86babf23-0ad6-4043-b000-952b517c1325",
   "metadata": {},
   "outputs": [
    {
     "data": {
      "image/png": "[encoded data removed]",
      "text/plain": [
       "<Figure size 640x480 with 1 Axes>"
      ]
     },
     "metadata": {},
     "output_type": "display_data"
    }
   ],
   "source": [
    "plt.plot(train_losses, color='r')\n",
    "plt.plot(test_losses, color='b')\n",
    "plt.xlabel(\"epoch\")\n",
    "plt.show()"
   ]
  },
  {
   "cell_type": "code",
   "execution_count": 14,
   "id": "724404a2-c1d3-4438-a83a-c980d8871bc2",
   "metadata": {},
   "outputs": [],
   "source": [
    "y_pred = []\n",
    "with torch.no_grad():\n",
    "    for data, target in test_loader:\n",
    "        output = model(data)\n",
    "        pred = output.argmax(dim=1, keepdim=True)\n",
    "        y_pred.append(pred.squeeze())"
   ]
  },
  {
   "cell_type": "code",
   "execution_count": 15,
   "id": "7c0ea930-684c-41c0-860c-2a19783c62b0",
   "metadata": {},
   "outputs": [],
   "source": [
    "y_pred = torch.concat(y_pred)"
   ]
  },
  {
   "cell_type": "code",
   "execution_count": 16,
   "id": "4490262e-dcec-43d0-89fc-0a8f995f16b0",
   "metadata": {},
   "outputs": [
    {
     "data": {
      "text/plain": [
       "TitanticModel(\n",
       "  (fc_layer_1): Linear(in_features=9, out_features=5, bias=True)\n",
       "  (dropout_layer): Dropout(p=0.2, inplace=False)\n",
       "  (fc_layer_2): Linear(in_features=5, out_features=2, bias=True)\n",
       ")"
      ]
     },
     "execution_count": 16,
     "metadata": {},
     "output_type": "execute_result"
    }
   ],
   "source": [
    "model"
   ]
  },
  {
   "cell_type": "code",
   "execution_count": 17,
   "id": "82372c79-cfa5-42dd-a16b-96ca369e45cf",
   "metadata": {},
   "outputs": [
    {
     "data": {
      "text/plain": [
       "OrderedDict([('fc_layer_1.weight',\n",
       "              tensor([[-0.0784, -0.4944, -0.3044, -0.4909, -0.2177, -0.6262, -0.3448,  0.1724,\n",
       "                       -0.0981],\n",
       "                      [-0.2590, -0.2664,  0.2244, -0.1189, -0.1414, -0.0939,  0.1945, -0.1552,\n",
       "                       -0.0347],\n",
       "                      [ 0.5102, -0.1285, -0.3010, -0.5997, -0.3424, -2.5754,  0.2211, -0.8801,\n",
       "                       -0.1446],\n",
       "                      [-0.7940, -0.4366, -0.5323, -0.2306, -0.0388, -0.1433, -0.5214, -0.3805,\n",
       "                       -0.9226],\n",
       "                      [-0.2457, -0.3633, -0.5413,  0.0821, -0.1718,  0.1331, -0.7682, -0.1962,\n",
       "                       -0.3992]])),\n",
       "             ('fc_layer_1.bias',\n",
       "              tensor([-0.6032, -0.0493, -0.1457, -0.6768, -0.2901])),\n",
       "             ('fc_layer_2.weight',\n",
       "              tensor([[-0.1022,  0.2057,  0.1387,  0.2834,  0.2444],\n",
       "                      [ 0.3351, -0.3251,  0.0057,  0.2154,  0.4606]])),\n",
       "             ('fc_layer_2.bias', tensor([ 0.0826, -0.3576]))])"
      ]
     },
     "execution_count": 17,
     "metadata": {},
     "output_type": "execute_result"
    }
   ],
   "source": [
    "model.state_dict()"
   ]
  },
  {
   "cell_type": "code",
   "execution_count": null,
   "id": "d6426836-7ddb-4cb9-887f-7dfa98dcf9f4",
   "metadata": {},
   "outputs": [],
   "source": []
  }
 ],
 "metadata": {
  "kernelspec": {
   "display_name": "nobleprog_training",
   "language": "python",
   "name": "myenv"
  },
  "language_info": {
   "codemirror_mode": {
    "name": "ipython",
    "version": 3
   },
   "file_extension": ".py",
   "mimetype": "text/x-python",
   "name": "python",
   "nbconvert_exporter": "python",
   "pygments_lexer": "ipython3",
   "version": "3.10.8"
  }
 },
 "nbformat": 4,
 "nbformat_minor": 5
}
