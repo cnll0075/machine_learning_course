{
 "cells": [
  {
   "cell_type": "code",
   "execution_count": 3,
   "id": "37c35a56-5956-4a0a-a76f-23a7b2f546bb",
   "metadata": {},
   "outputs": [],
   "source": [
    "import pandas as pd\n",
    "import numpy as np\n",
    "import matplotlib.pyplot as plt\n",
    "from sklearn.linear_model import LogisticRegression\n",
    "from sklearn.model_selection import train_test_split"
   ]
  },
  {
   "cell_type": "markdown",
   "id": "ce3616c9-db31-4038-8853-3054fe0c1c91",
   "metadata": {},
   "source": [
    "In this nb, we will run logistic regression on the processed titanic dataset and compare it's performance with the random forest. Previously the scores using default forest parameters are: \n",
    "- Precision: 0.8888888888888888 \n",
    "- Recall: 0.7058823529411765 \n",
    "- F1: 0.7868852459016393"
   ]
  },
  {
   "cell_type": "markdown",
   "id": "2350a881-feda-4c45-93fb-f3d8b4224400",
   "metadata": {},
   "source": [
    "### Load preprocessed data"
   ]
  },
  {
   "cell_type": "code",
   "execution_count": 4,
   "id": "461cb848-c6ec-4d80-9a81-81bbe570d13a",
   "metadata": {},
   "outputs": [],
   "source": [
    "train_df = pd.read_csv(\"../data/Titanic/train_processed.csv\")\n",
    "y = train_df['Survived']\n",
    "x = train_df.drop(['Survived'], axis=1)\n",
    "X_train, X_valid, y_train, y_valid = train_test_split(x, y, test_size=0.2, random_state=23, stratify=y)"
   ]
  },
  {
   "cell_type": "markdown",
   "id": "628773b4-e38c-497a-a8ce-728d2c66088d",
   "metadata": {},
   "source": [
    "### Model training"
   ]
  },
  {
   "cell_type": "markdown",
   "id": "3862bd79-2e14-4eb6-b30a-5a50ad919bb9",
   "metadata": {},
   "source": [
    "- Train the model using an l2 regularization. \n",
    "- Get the prediction labels for the validationn dataset. \n",
    "- Evaluate precision, recall and f1 score.\n",
    "- Can you find how to get the predicted probability in addtion to just the labels?"
   ]
  },
  {
   "cell_type": "code",
   "execution_count": 13,
   "id": "507e1f57-d09c-4210-8cf6-3116e15e6d3a",
   "metadata": {},
   "outputs": [],
   "source": [
    "from sklearn.metrics import precision_recall_fscore_support"
   ]
  },
  {
   "cell_type": "code",
   "execution_count": null,
   "id": "9f0d64d3-29e5-4856-b544-41c4e4cae5c9",
   "metadata": {},
   "outputs": [],
   "source": []
  },
  {
   "cell_type": "code",
   "execution_count": null,
   "id": "6c8d9eb4-a95f-431e-875b-4715b4daf5e7",
   "metadata": {},
   "outputs": [],
   "source": []
  },
  {
   "cell_type": "code",
   "execution_count": null,
   "id": "d263f1b6-593e-430d-948e-542b90744945",
   "metadata": {},
   "outputs": [],
   "source": []
  },
  {
   "cell_type": "code",
   "execution_count": null,
   "id": "d79fd9b2-3fba-4eea-a546-8db18516616d",
   "metadata": {},
   "outputs": [],
   "source": []
  },
  {
   "cell_type": "code",
   "execution_count": null,
   "id": "8dce9da4-6777-4008-a48b-20b7aefbfb8a",
   "metadata": {},
   "outputs": [],
   "source": []
  },
  {
   "cell_type": "markdown",
   "id": "1d0c08a6-861e-4166-bfb7-5b1f9fad7283",
   "metadata": {},
   "source": [
    "There's a mysterious new parameter for logistic_regression: Solver..what is it?"
   ]
  },
  {
   "cell_type": "code",
   "execution_count": null,
   "id": "05028838-f222-4591-a663-999d7e718ac4",
   "metadata": {},
   "outputs": [],
   "source": []
  }
 ],
 "metadata": {
  "kernelspec": {
   "display_name": "nobleprog_training",
   "language": "python",
   "name": "myenv"
  },
  "language_info": {
   "codemirror_mode": {
    "name": "ipython",
    "version": 3
   },
   "file_extension": ".py",
   "mimetype": "text/x-python",
   "name": "python",
   "nbconvert_exporter": "python",
   "pygments_lexer": "ipython3",
   "version": "3.10.8"
  }
 },
 "nbformat": 4,
 "nbformat_minor": 5
}
